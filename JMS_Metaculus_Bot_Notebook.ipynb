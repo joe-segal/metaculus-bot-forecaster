{
  "cells": [
    {
      "cell_type": "markdown",
      "metadata": {
        "id": "view-in-github",
        "colab_type": "text"
      },
      "source": [
        "<a href=\"https://colab.research.google.com/github/joe-segal/metaculus-bot-forecaster/blob/main/JMS_Metaculus_Bot_Notebook.ipynb\" target=\"_parent\"><img src=\"https://colab.research.google.com/assets/colab-badge.svg\" alt=\"Open In Colab\"/></a>"
      ]
    },
    {
      "cell_type": "markdown",
      "source": [
        "# LLM Forecasting Bot\n",
        "*Created by Kirill and Tom, revised by Ryan*\n",
        "\n",
        "The code below is used for making LLM-powered forecasts in Metaculus' [AI benchmarking competition](https://www.metaculus.com/project/ai-benchmarking-pilot/).\n",
        "\n",
        "Specifically, it does the following:\n",
        "\n",
        "* Gets questions from the project page using the Metaculus API\n",
        "* Gets four separate forecasts from the LLM, three independently and the fourth assessing the reasoning of the first three and producing its own.\n",
        "* Predicts on the Metaculus questions and shares a comment describing the reasoning of the fourth LLM forecast.\n",
        "\n",
        "Features and options:\n",
        "\n",
        "* Allows you to choose whether it repredicts on questions it's already forecasted on or ignores them.\n",
        "* Allows for the use of [Perplexity search](https://www.perplexity.ai/) for additional research, using a prompt formed by an LLM.\n",
        "    * *Previously this allowed for the use of pre-computed Perpelxity results, but this is no longer supported by Metaculus.*\n",
        "* Can be used with an automated workflow via Github actions to monitor the project for new open questions and make forecasts when there are some\n",
        "    * See [this Github repo](https://github.com/ryooan/metaculus-bot-forecaster) for how to set this up"
      ],
      "metadata": {
        "id": "zMlSOSdSYCds"
      }
    },
    {
      "cell_type": "markdown",
      "source": [
        "### 🚨🚨🚨 Warning 🚨🚨🚨\n",
        "\n",
        "**You are responsible for monitoring the costs of your implementation, especially if using the automated Github workflow. Cost estimates computed by this notebook are rough estimates only, make sure to check and monitor how much you are spending and the funds in your relevant accounts.**"
      ],
      "metadata": {
        "id": "TZ5X6zf7bYT-"
      }
    },
    {
      "cell_type": "markdown",
      "metadata": {
        "id": "BzqR47EYbh6p"
      },
      "source": [
        "## Getting Started\n",
        "\n",
        "### Make a Metaculus Bot Account\n",
        "The first step will be to make a Metaculus bot account. Instructions for how to do this have likely already been provided to you, either via a page on Metaculus or at an event.\n",
        "\n",
        "### Secrets and Tokens\n",
        "\n",
        "You need to set secrets 1) and 2) in order to make forecasts. Secrets 3) and 4) are necessary if you will be using Perplexity research.\n",
        "\n",
        "1) METACULUS_TOKEN (you can find it or create it here - https://www.metaculus.com/admin/authtoken/tokenproxy/, or ask Metaculus to share it with you).\n",
        "\n",
        "2) OPENAPI_API_KEY - (you can find it here https://platform.openai.com/settings/profile?tab=api-keys).\n",
        "\n",
        "3) PERPLEXITY_API_KEY - You can generate an API key here: https://docs.perplexity.ai/docs/getting-started\n",
        "\n",
        "These secrets can be set in your Google colab account using the key on the left side.\n",
        "\n",
        "*See the [Github repo](https://github.com/ryooan/metaculus-bot-forecaster) for special instructions necessary for setting your secrets in Github if you intend to use the automated Github action.*\n",
        "\n",
        "*Note: previously this also used a QUESTIONS_API_KEY which got some precomputed Perplexity results stored by Metaculus, but this is no longer supported by Metaculus.*\n",
        "\n",
        "### Setting Inputs\n",
        "\n",
        "Once your tokens are set correctly, you can proceed to the [Inputs section](https://colab.research.google.com/drive/1_P7_QNJiJyWBY2qCVu2-_8gVPD1X7mX3?authuser=2#scrollTo=6cbruBaVtaZh). That should be the only section most users will need. More advanced users can edit the [Setup](https://colab.research.google.com/drive/1_P7_QNJiJyWBY2qCVu2-_8gVPD1X7mX3?authuser=2#scrollTo=tNl_mbJaX60R) and [Code](https://colab.research.google.com/drive/1_P7_QNJiJyWBY2qCVu2-_8gVPD1X7mX3?authuser=2#scrollTo=k8vtze4SXtR3) sections if desired, but this is not recommended unless you have coding experience."
      ]
    },
    {
      "cell_type": "markdown",
      "source": [
        "## Setup\n",
        "\n",
        "It is recommended that you do not edit these cells unless you have coding experience.\n",
        "\n",
        "\n",
        "\n",
        "---\n",
        "\n"
      ],
      "metadata": {
        "id": "tNl_mbJaX60R"
      }
    },
    {
      "cell_type": "code",
      "source": [
        "from IPython.display import HTML, display\n",
        "\n",
        "def set_css(*args, **kwargs):\n",
        "  display(HTML('''\n",
        "  <style>\n",
        "    pre {\n",
        "        white-space: pre-wrap;\n",
        "    }\n",
        "  </style>\n",
        "  '''))\n",
        "get_ipython().events.register('pre_run_cell', set_css)\n",
        "\n",
        "#according to this link the above wraps the output text: https://stackoverflow.com/questions/58890109/line-wrapping-in-collaboratory-google-results"
      ],
      "metadata": {
        "id": "girVrSlJkWUL",
        "outputId": "aa80c49b-c57b-43f9-cf20-a23fbd81c78d",
        "colab": {
          "base_uri": "https://localhost:8080/",
          "height": 17
        }
      },
      "execution_count": 19,
      "outputs": [
        {
          "output_type": "display_data",
          "data": {
            "text/plain": [
              "<IPython.core.display.HTML object>"
            ],
            "text/html": [
              "\n",
              "  <style>\n",
              "    pre {\n",
              "        white-space: pre-wrap;\n",
              "    }\n",
              "  </style>\n",
              "  "
            ]
          },
          "metadata": {}
        }
      ]
    },
    {
      "cell_type": "code",
      "execution_count": 20,
      "metadata": {
        "id": "HifodCwcGU0j",
        "colab": {
          "base_uri": "https://localhost:8080/",
          "height": 399
        },
        "outputId": "ef2be32c-4500-4d7c-9c78-adfe5030bcfe"
      },
      "outputs": [
        {
          "output_type": "display_data",
          "data": {
            "text/plain": [
              "<IPython.core.display.HTML object>"
            ],
            "text/html": [
              "\n",
              "  <style>\n",
              "    pre {\n",
              "        white-space: pre-wrap;\n",
              "    }\n",
              "  </style>\n",
              "  "
            ]
          },
          "metadata": {}
        },
        {
          "output_type": "display_data",
          "data": {
            "text/plain": [
              "<IPython.core.display.HTML object>"
            ],
            "text/html": [
              "\n",
              "  <style>\n",
              "    pre {\n",
              "        white-space: pre-wrap;\n",
              "    }\n",
              "  </style>\n",
              "  "
            ]
          },
          "metadata": {}
        },
        {
          "output_type": "stream",
          "name": "stdout",
          "text": [
            "Requirement already satisfied: openai in /usr/local/lib/python3.10/dist-packages (1.36.1)\n",
            "Requirement already satisfied: anyio<5,>=3.5.0 in /usr/local/lib/python3.10/dist-packages (from openai) (3.7.1)\n",
            "Requirement already satisfied: distro<2,>=1.7.0 in /usr/lib/python3/dist-packages (from openai) (1.7.0)\n",
            "Requirement already satisfied: httpx<1,>=0.23.0 in /usr/local/lib/python3.10/dist-packages (from openai) (0.27.0)\n",
            "Requirement already satisfied: pydantic<3,>=1.9.0 in /usr/local/lib/python3.10/dist-packages (from openai) (2.8.2)\n",
            "Requirement already satisfied: sniffio in /usr/local/lib/python3.10/dist-packages (from openai) (1.3.1)\n",
            "Requirement already satisfied: tqdm>4 in /usr/local/lib/python3.10/dist-packages (from openai) (4.66.4)\n",
            "Requirement already satisfied: typing-extensions<5,>=4.7 in /usr/local/lib/python3.10/dist-packages (from openai) (4.12.2)\n",
            "Requirement already satisfied: idna>=2.8 in /usr/local/lib/python3.10/dist-packages (from anyio<5,>=3.5.0->openai) (3.7)\n",
            "Requirement already satisfied: exceptiongroup in /usr/local/lib/python3.10/dist-packages (from anyio<5,>=3.5.0->openai) (1.2.2)\n",
            "Requirement already satisfied: certifi in /usr/local/lib/python3.10/dist-packages (from httpx<1,>=0.23.0->openai) (2024.7.4)\n",
            "Requirement already satisfied: httpcore==1.* in /usr/local/lib/python3.10/dist-packages (from httpx<1,>=0.23.0->openai) (1.0.5)\n",
            "Requirement already satisfied: h11<0.15,>=0.13 in /usr/local/lib/python3.10/dist-packages (from httpcore==1.*->httpx<1,>=0.23.0->openai) (0.14.0)\n",
            "Requirement already satisfied: annotated-types>=0.4.0 in /usr/local/lib/python3.10/dist-packages (from pydantic<3,>=1.9.0->openai) (0.7.0)\n",
            "Requirement already satisfied: pydantic-core==2.20.1 in /usr/local/lib/python3.10/dist-packages (from pydantic<3,>=1.9.0->openai) (2.20.1)\n",
            "Requirement already satisfied: tiktoken in /usr/local/lib/python3.10/dist-packages (0.7.0)\n",
            "Requirement already satisfied: regex>=2022.1.18 in /usr/local/lib/python3.10/dist-packages (from tiktoken) (2024.5.15)\n",
            "Requirement already satisfied: requests>=2.26.0 in /usr/local/lib/python3.10/dist-packages (from tiktoken) (2.31.0)\n",
            "Requirement already satisfied: charset-normalizer<4,>=2 in /usr/local/lib/python3.10/dist-packages (from requests>=2.26.0->tiktoken) (3.3.2)\n",
            "Requirement already satisfied: idna<4,>=2.5 in /usr/local/lib/python3.10/dist-packages (from requests>=2.26.0->tiktoken) (3.7)\n",
            "Requirement already satisfied: urllib3<3,>=1.21.1 in /usr/local/lib/python3.10/dist-packages (from requests>=2.26.0->tiktoken) (2.0.7)\n",
            "Requirement already satisfied: certifi>=2017.4.17 in /usr/local/lib/python3.10/dist-packages (from requests>=2.26.0->tiktoken) (2024.7.4)\n"
          ]
        }
      ],
      "source": [
        "!pip install openai\n",
        "!pip install tiktoken\n",
        "import datetime\n",
        "import json\n",
        "import os\n",
        "import requests\n",
        "import tiktoken\n",
        "import re\n",
        "\n",
        "from openai import OpenAI\n",
        "\n",
        "#use the below to detect if it's being run in google colab, if it's not this skips an error\n",
        "def in_colab():\n",
        "    try:\n",
        "        import google.colab\n",
        "        return True\n",
        "    except ImportError:\n",
        "        return False\n",
        "\n",
        "if in_colab():\n",
        "    from google.colab import userdata"
      ]
    },
    {
      "cell_type": "code",
      "execution_count": 21,
      "metadata": {
        "id": "SoELZnYOGXsV",
        "colab": {
          "base_uri": "https://localhost:8080/",
          "height": 34
        },
        "outputId": "14b5bf13-4db2-4d12-9821-732bc7046198"
      },
      "outputs": [
        {
          "output_type": "display_data",
          "data": {
            "text/plain": [
              "<IPython.core.display.HTML object>"
            ],
            "text/html": [
              "\n",
              "  <style>\n",
              "    pre {\n",
              "        white-space: pre-wrap;\n",
              "    }\n",
              "  </style>\n",
              "  "
            ]
          },
          "metadata": {}
        },
        {
          "output_type": "display_data",
          "data": {
            "text/plain": [
              "<IPython.core.display.HTML object>"
            ],
            "text/html": [
              "\n",
              "  <style>\n",
              "    pre {\n",
              "        white-space: pre-wrap;\n",
              "    }\n",
              "  </style>\n",
              "  "
            ]
          },
          "metadata": {}
        },
        {
          "output_type": "stream",
          "name": "stdout",
          "text": [
            "Loading secrets from userdata (Google Colab)\n"
          ]
        }
      ],
      "source": [
        "#the below is used to get secrets when using github actions to automate\n",
        "#initialize\n",
        "metaculus_token = None\n",
        "#questions_api_key = None\n",
        "perplexity_api_key = None\n",
        "\n",
        "# Function to load secrets from the specified path\n",
        "def load_secrets(secrets_path):\n",
        "    try:\n",
        "        with open(secrets_path, 'r') as secrets_file:\n",
        "            secrets = json.loads(secrets_file.read())\n",
        "            for k, v in secrets.items():\n",
        "                os.environ[k] = v\n",
        "    except Exception as e:\n",
        "        print(f\"Error loading secrets from {secrets_path}: {e}\")\n",
        "\n",
        "# Main code block\n",
        "try:\n",
        "    if 'secretsPath' in globals():\n",
        "        print(f\"secretsPath exists: {secretsPath}\")\n",
        "        load_secrets(secretsPath)\n",
        "\n",
        "        metaculus_token = os.environ['METACULUS_TOKEN']\n",
        "        #questions_api_key = os.environ['QUESTIONS_API_KEY']\n",
        "        perplexity_api_key = os.environ['PERPLEXITY_API_KEY']\n",
        "    else:\n",
        "        raise NameError(\"secretsPath not defined\")\n",
        "except NameError:\n",
        "    print(\"Loading secrets from userdata (Google Colab)\")\n",
        "    metaculus_token = userdata.get('METACULUS_TOKEN')\n",
        "    os.environ[\"OPENAI_API_KEY\"] = userdata.get('OPENAI_API_KEY')\n",
        "    #questions_api_key = userdata.get('QUESTIONS_API_KEY')\n",
        "    perplexity_api_key = userdata.get('PERPLEXITY_API_KEY')\n",
        "except KeyError as e:\n",
        "    print(f\"Missing required environment variable: {e}\")"
      ]
    },
    {
      "cell_type": "markdown",
      "source": [
        "## Inputs\n",
        "\n",
        "The cell below contains all of the main settings that you can change. See comments in the cell for an explanation of each. Modify them as you see fit and then run all of the cells below to forecast.\n",
        "\n",
        "*You can press Ctrl+F10 to run all of the cells after the selected one.*"
      ],
      "metadata": {
        "id": "6cbruBaVtaZh"
      }
    },
    {
      "cell_type": "code",
      "source": [
        "PROJECT_ID = 3349  # 3129 is ID of AI Becnhmarking Pilot project. We kindly ask you not to forecast on any public tournaments or public questions in general\n",
        "MAX_QUESTIONS_TO_FORECAST = 25  # You can set it to some small number for testing or to 1_000_000 to forecast on all available questions\n",
        "REPREDICT = False # if this is false it won't predict on questions it has previously already predicted on. Set it to true to repredict on all open questions, even if it has made previous predictions.\n",
        "SUBMIT_FORECASTS = True # If set to False - forecast, but don't submit results to Metaculus platform. If set to True - forecast, and submit results to Metaculus platform\n",
        "USE_PERPLEXITY_RECENT = True # If set to true the perplexity search used is one that looks for the most recent news on the subject using a GPT prompt completion informed by the forecasting question.\n",
        "QUESTION_IDS_TO_FORECAST = None # Set to None to disable custom filtering by ID. Set to a list of IDs to only forecast on selected questions, i.e. [24191, 24190, 24189]\n",
        "#QUESTION_IDS_TO_FORECAST = [26233, 26234]\n",
        "USE_CONFIDENCE = True\n",
        "\n",
        "# Use this to run your own question, not pulled from Metaculus\n",
        "ANSWER_MANUAL_QUESTION = False\n",
        "#manual_question = \"Will Pfizer's GLP-1 trial agent danuglipron be approved by the FDA for weight loss by January 1 2028?\"\n",
        "manual_question = \"Will a nuclear weapon be detonated as an act of war by Sept 30, 2024?\"\n",
        "manual_question_dict = {\n",
        "  'id': None,\n",
        "  'title': manual_question,\n",
        "  'description': manual_question,\n",
        "  'resolution_criteria': manual_question,\n",
        "  'fine_print': manual_question\n",
        "  }\n",
        "if ANSWER_MANUAL_QUESTION:\n",
        "  SUBMIT_FORECASTS = False\n",
        "\n",
        "OPEN_AI_MODEL = 'gpt-4o'\n",
        "PERPLEXITY_MODEL = 'llama-3-sonar-large-32k-online'\n",
        "\n",
        "# The forecaster weights are used to produce a weighted average of the forecasts. You can adjust these weights to favor a certain forecaster/prompt more heavily.\n",
        "# Weights should sum to 1.\n",
        "forecaster1_weight = 0.2\n",
        "forecaster2_weight = 0.2\n",
        "forecaster3_weight = 0.2\n",
        "forecaster4_weight = 0.4\n",
        "\n",
        "# Prompts\n",
        "# The prompts used are below, these can be edited to hone your LLM forecasts.\n",
        "# Here is a glossary of the variables that can be inserted and used in the prompts.\n",
        "# [[title]]: This is the question text, what shows up at the top of the Metaculus question page\n",
        "# [[resolution_criteria]]: This is the resolution criteria section of the question, excluding fine print\n",
        "# [[fine_print]]: This is the fine print section of the question.\n",
        "# [[background]]: This is the background section of the resolution criteria.\n",
        "# [[today]]: The current date\n",
        "# [[forecaster1]] through {forecaster3}: These are the LLM outputs of forecasters 1 through 3, currently being used to feed into the input of forecaster 4 for it to assess in its own forecast.\n",
        "# [[summary_report]]: This is research from Perplexity. If USE_PERPLEXITY_RECENT is True, this will be the Perplexity info returned when the output of LLM_question_completion is passed to Perplexity.\n",
        "                  # If USE_PERPLEXITY_RECENT is False and ENABLE_PERPLEXITY_RESEARCH is True, it will return pre-computed Perplexity research on the question stored by Metaculus.\n",
        "                  # If both are false it will not return anything.\n",
        "\n",
        "# The LLM_question_completion prompt is used to ask the LLM what question it should ask Perplexity, if using USE_PERPLEXITY_RECENT\n",
        "prompt_template_get_perplexity_question = \"\"\"\n",
        "You're being asked the following forecasting question:\n",
        "\n",
        "The question is:\n",
        "[[title]]\n",
        "\n",
        "And it has these specific resolution details:\n",
        "[[resolution_criteria]]\n",
        "\n",
        "Fine print:\n",
        "[[fine_print]]\n",
        "\n",
        "To get the latest news that will help you forecast on the question, you need to ask your web search tool one question that would be most valuable to help you forecast\n",
        "on this question. The question should be posed so that the web search tool will provide you with the most recent information, including the latest information on the progress toward\n",
        "the criteria in the forecasting question being met. Please complete the sentence below with the most valuable question to ask:\n",
        "\n",
        "\"What is the most recent news available and prior occurrences related to. . . \"\n",
        "\"\"\"\n",
        "\n",
        "# Prompt 1 is used by forecaster 1, with QUESTION_INFO_TEMPLATE appended to the end\n",
        "prompt_template_v1 = \"\"\"\n",
        "You are a professional forecaster interviewing for a job. The interviewer is also a professional forecaster, with a strong track record of accurate forecasts of the future.\n",
        "They will ask you a question, and your task is to provide the most accurate forecast you can. To do this, you evaluate past data and trends carefully, make use of comparison classes\n",
        "of similar events, take into account base rates about how past events unfolded, and outline the best reasons for and against any particular outcome.\n",
        "You know that great forecasters don't just forecast according to the \"vibe\" of the question and the considerations.\n",
        "Instead, they think about the question in a structured way, recording their reasoning as they go,\n",
        "and they always consider multiple perspectives that usually give different conclusions, which they reason about together.\n",
        "You can't know the future, and the interviewer knows that, so you do not need to hedge your uncertainty, you are simply trying to give\n",
        "the most accurate numbers that will be evaluated when the events later unfold.\n",
        "\n",
        "\"\"\"\n",
        "\n",
        "# Prompt 2 is used by forecaster 2, with QUESTION_INFO_TEMPLATE appended to the end\n",
        "prompt_template_v2 = \"\"\"\n",
        "You are a professional forecaster being tested on your skill. You are being asked a question for which you must provide the most accurate forecast you can.\n",
        "Reason step by step about the best forecast, carefully considering the information you are presented with and the potential that some of the\n",
        "background information and information provided by your research assistant may be out of date or conflicting.\n",
        "You also know that a key forecasting practice is to consider the outside view, thinking carefully about reference classes and base rates and how often similar events\n",
        "have happened in the past.\n",
        "\n",
        "\"\"\"\n",
        "\n",
        "# Prompt 3 is used by forecaster 3, with QUESTION_INFO_TEMPLATE appended to the end\n",
        "prompt_template_v3 = \"\"\"\n",
        "You are a professional forecaster trying your best to produce an accurate forecast for the question below. You have a keen eye for detail, and know that\n",
        "the resolution criteria and fine print of a question often contain important edge cases that should be considered. You also know that rookie forecasters\n",
        "tend to be underconfident, and so your forecasts should be confident and extremize some of the way toward 1% or 99%. You're also aware that forecasting questions tend\n",
        "to be biased, so when forecasting questions asks about things that would be a departure from the norm or from business as usual, those things tend not to happen.\n",
        "You will use that knowledge to make the best forecast you can, and describe your reasoning step by step.\n",
        "\n",
        "\"\"\"\n",
        "\n",
        "# Forecaster 4 uses prompt 4 parts 1 and 2, with QUESTION_INFO_TEMPLATE inserted between part 1 and part 2\n",
        "final_prompt_part1 = \"\"\"\n",
        "You are a professional forecaster trying your best to produce an accurate forecast for the question below.\n",
        "\n",
        "\"\"\"\n",
        "\n",
        "final_prompt_part2 = \"\"\"\n",
        "Now that you know what the question asks and some relevant background and research, your job is to make the best forecast you can. You know that examining the reasoning of other\n",
        "forecasters is an excellent way to improve your own forecast. Below I have provided the reasoning from three other forecasters who predicted on the same question.\n",
        "Examine their reasoning and use it to inform your own, using your expertise as a forecaster to assess which reasoning seems strongest and which seems flawed,\n",
        "as well as which reasoning seems to incorporate the most accurate information about base rates and historic reference classes. Construct your own reasoning and forecast,\n",
        "describing your reasoning step by step and incorporating the strongest arguments from the other forecasters in a way that improves your own reasoning. First produce a\n",
        "one sentence summary of the reasoning of each forecaster (repeating the final probability each predicted), then describe your forecast.\n",
        "\n",
        "Forecaster A:\n",
        "[[forecaster1]]\n",
        "\n",
        "Forecaster B:\n",
        "[[forecaster2]]\n",
        "\n",
        "Forecaster C:\n",
        "[[forecaster3]]\n",
        "\"\"\"\n",
        "\n",
        "# QUESTION_INFO_TEMPLATE is used with the above prompts to share the details about the question with the LLM.\n",
        "QUESTION_INFO_TEMPLATE = \"\"\"\n",
        "\n",
        "The question is:\n",
        "[[title]]\n",
        "\n",
        "Here are details about how the outcome of the question will be determined, make sure your forecast is consistent with these:\n",
        "[[resolution_criteria]]\n",
        "\n",
        "Here is the question's fine print that you need to be consistent with in your forecast:\n",
        "[[fine_print]]\n",
        "\n",
        "Here is some background of the question, though note that some of the details may be out of date:\n",
        "[[background]]\n",
        "\n",
        "Your research assistant provides the following information that is likely more up to date:\n",
        "[[summary_report]]\n",
        "\n",
        "Today is [[today]].\n",
        "\n",
        "Describe your reasoning step by step and give your final probability forecast in the last line of your response along with an assessment of your confidence in the accuracy of this forecast, both values as a percentage probability or confidence in exactly this form: \"Probability: XX.X% - Confidence: XX.X%\", where XX.X is a number between 0 and 100, with at most one decimal place.\n",
        "\"\"\"\n"
      ],
      "metadata": {
        "id": "2CWVjJ9_tZ6_",
        "colab": {
          "base_uri": "https://localhost:8080/",
          "height": 17
        },
        "outputId": "ae53945a-87d6-470a-86a4-49cb4b47fe4e"
      },
      "execution_count": 22,
      "outputs": [
        {
          "output_type": "display_data",
          "data": {
            "text/plain": [
              "<IPython.core.display.HTML object>"
            ],
            "text/html": [
              "\n",
              "  <style>\n",
              "    pre {\n",
              "        white-space: pre-wrap;\n",
              "    }\n",
              "  </style>\n",
              "  "
            ]
          },
          "metadata": {}
        },
        {
          "output_type": "display_data",
          "data": {
            "text/plain": [
              "<IPython.core.display.HTML object>"
            ],
            "text/html": [
              "\n",
              "  <style>\n",
              "    pre {\n",
              "        white-space: pre-wrap;\n",
              "    }\n",
              "  </style>\n",
              "  "
            ]
          },
          "metadata": {}
        }
      ]
    },
    {
      "cell_type": "markdown",
      "source": [
        "## Functions\n",
        "\n",
        "---\n",
        "\n"
      ],
      "metadata": {
        "id": "k8vtze4SXtR3"
      }
    },
    {
      "cell_type": "markdown",
      "metadata": {
        "id": "HmWSCwDLbhFJ"
      },
      "source": [
        "Getting questions (only binaries)\n",
        "\n",
        "Getting them 10 at a time, you can change offset to \"scroll\" through them"
      ]
    },
    {
      "cell_type": "code",
      "execution_count": 23,
      "metadata": {
        "id": "O9gVXbHIGfOP",
        "colab": {
          "base_uri": "https://localhost:8080/",
          "height": 17
        },
        "outputId": "7c9c3081-bcac-4c1c-919e-e00311666cc9"
      },
      "outputs": [
        {
          "output_type": "display_data",
          "data": {
            "text/plain": [
              "<IPython.core.display.HTML object>"
            ],
            "text/html": [
              "\n",
              "  <style>\n",
              "    pre {\n",
              "        white-space: pre-wrap;\n",
              "    }\n",
              "  </style>\n",
              "  "
            ]
          },
          "metadata": {}
        },
        {
          "output_type": "display_data",
          "data": {
            "text/plain": [
              "<IPython.core.display.HTML object>"
            ],
            "text/html": [
              "\n",
              "  <style>\n",
              "    pre {\n",
              "        white-space: pre-wrap;\n",
              "    }\n",
              "  </style>\n",
              "  "
            ]
          },
          "metadata": {}
        }
      ],
      "source": [
        "url = \"https://www.metaculus.com/api2/questions/\"\n",
        "\n",
        "params = {\n",
        "    \"has_group\": \"false\",\n",
        "    \"order_by\": \"-activity\",\n",
        "    \"forecast_type\": \"binary\",\n",
        "    \"project\": PROJECT_ID,\n",
        "    \"status\": \"open\", # can change this to 'closed' for testing where you're not submitting a forecast, otherwise leave as open\n",
        "    \"type\": \"forecast\",\n",
        "    \"title-and-description-only\": \"true\",\n",
        "}"
      ]
    },
    {
      "cell_type": "code",
      "execution_count": 24,
      "metadata": {
        "id": "yioIDa8UsCuR",
        "colab": {
          "base_uri": "https://localhost:8080/",
          "height": 17
        },
        "outputId": "1ebf9bff-afed-43a3-df19-32a35f73e122"
      },
      "outputs": [
        {
          "output_type": "display_data",
          "data": {
            "text/plain": [
              "<IPython.core.display.HTML object>"
            ],
            "text/html": [
              "\n",
              "  <style>\n",
              "    pre {\n",
              "        white-space: pre-wrap;\n",
              "    }\n",
              "  </style>\n",
              "  "
            ]
          },
          "metadata": {}
        },
        {
          "output_type": "display_data",
          "data": {
            "text/plain": [
              "<IPython.core.display.HTML object>"
            ],
            "text/html": [
              "\n",
              "  <style>\n",
              "    pre {\n",
              "        white-space: pre-wrap;\n",
              "    }\n",
              "  </style>\n",
              "  "
            ]
          },
          "metadata": {}
        }
      ],
      "source": [
        "def yield_all_questions():\n",
        "  if ANSWER_MANUAL_QUESTION:\n",
        "    yield manual_question_dict\n",
        "    return\n",
        "\n",
        "  limit = 10 # This is a page limit, not question limit\n",
        "  n = 0\n",
        "  new_questions_found = False\n",
        "\n",
        "  while True:\n",
        "    offset = n * limit\n",
        "    response = requests.get(\n",
        "        url,\n",
        "        params={**params, \"limit\": limit, \"offset\": offset},\n",
        "        headers={\"Authorization\": f\"Token {metaculus_token}\"}\n",
        "    )\n",
        "    response.raise_for_status()\n",
        "    questions = response.json().get(\"results\")\n",
        "\n",
        "    # if repredict is true it will skip to the else and predict on all the questions\n",
        "    # if repredict is false it will see if \"my_predictions\" is empty or not for each question, and only predict on questions without a prediction\n",
        "    if not REPREDICT:\n",
        "        for question in questions:\n",
        "            question_id = question['id']\n",
        "\n",
        "            guess_response = requests.get(\n",
        "                f\"{url}{question_id}/\",\n",
        "                headers={\"Authorization\": f\"Token {metaculus_token}\"}\n",
        "            )\n",
        "            guess_response.raise_for_status()\n",
        "\n",
        "            if not guess_response.json().get(\"my_predictions\"):\n",
        "                new_questions_found = True\n",
        "                yield question\n",
        "    else:\n",
        "        new_questions_found = True\n",
        "        yield from questions\n",
        "\n",
        "    if not response.json().get(\"next\"):\n",
        "      break\n",
        "    n += 1\n",
        "\n",
        "  if not new_questions_found:\n",
        "    print(\"No new questions to predict on.\")"
      ]
    },
    {
      "cell_type": "code",
      "execution_count": 40,
      "metadata": {
        "id": "dXyQLerREJGk",
        "colab": {
          "base_uri": "https://localhost:8080/",
          "height": 17
        },
        "outputId": "a181053b-01c0-4929-d891-caa5137150c2"
      },
      "outputs": [
        {
          "output_type": "display_data",
          "data": {
            "text/plain": [
              "<IPython.core.display.HTML object>"
            ],
            "text/html": [
              "\n",
              "  <style>\n",
              "    pre {\n",
              "        white-space: pre-wrap;\n",
              "    }\n",
              "  </style>\n",
              "  "
            ]
          },
          "metadata": {}
        },
        {
          "output_type": "display_data",
          "data": {
            "text/plain": [
              "<IPython.core.display.HTML object>"
            ],
            "text/html": [
              "\n",
              "  <style>\n",
              "    pre {\n",
              "        white-space: pre-wrap;\n",
              "    }\n",
              "  </style>\n",
              "  "
            ]
          },
          "metadata": {}
        }
      ],
      "source": [
        "def extract_probability(s):\n",
        "    # Use a regular expression to find all numbers followed by a '%'\n",
        "    matches = re.findall(r'Probability[:\\s]+(?:\\*\\*)?[\\s]*(\\d+\\.?\\d*)%', s)\n",
        "    if matches:\n",
        "        # Return the last number found before a '%'\n",
        "        #return int(matches[-1])\n",
        "        return float(matches[-1]), None\n",
        "    else:\n",
        "        # Return None if no number found\n",
        "        return None, None\n",
        "\n",
        "def extract_probability_and_confidence(s):\n",
        "    # Use a regular expression to find all numbers followed by a '%'\n",
        "    matches = re.findall(r'Probability[:\\s]+(?:\\*\\*)?[\\s]*(\\d+\\.?\\d*)%', s)\n",
        "    probability = float(matches[-1])\n",
        "    matches = re.findall(r'Confidence[:\\s]+(?:\\*\\*)?[\\s]*(\\d+\\.?\\d*)%', s)\n",
        "    confidence = float(matches[-1])\n",
        "    return probability, confidence"
      ]
    },
    {
      "cell_type": "code",
      "source": [
        "# this is used to replace the {} keys with [[]], since sometimes the LLM output uses {} when formatting code.\n",
        "def replace_keys(text, key_dict, delimiter='[[', end_delimiter=']]'):\n",
        "    pattern = re.compile(re.escape(delimiter) + '(.*?)' + re.escape(end_delimiter))\n",
        "    def replace(match):\n",
        "        key = match.group(1)\n",
        "        return key_dict.get(key, match.group(0))  # Return the original if key not found\n",
        "    return pattern.sub(replace, text)"
      ],
      "metadata": {
        "colab": {
          "base_uri": "https://localhost:8080/",
          "height": 17
        },
        "id": "ldAJ5OWBW1mA",
        "outputId": "27b8a634-4f15-4564-bac5-66b2cc6b079e"
      },
      "execution_count": 26,
      "outputs": [
        {
          "output_type": "display_data",
          "data": {
            "text/plain": [
              "<IPython.core.display.HTML object>"
            ],
            "text/html": [
              "\n",
              "  <style>\n",
              "    pre {\n",
              "        white-space: pre-wrap;\n",
              "    }\n",
              "  </style>\n",
              "  "
            ]
          },
          "metadata": {}
        },
        {
          "output_type": "display_data",
          "data": {
            "text/plain": [
              "<IPython.core.display.HTML object>"
            ],
            "text/html": [
              "\n",
              "  <style>\n",
              "    pre {\n",
              "        white-space: pre-wrap;\n",
              "    }\n",
              "  </style>\n",
              "  "
            ]
          },
          "metadata": {}
        }
      ]
    },
    {
      "cell_type": "code",
      "execution_count": 27,
      "metadata": {
        "id": "EoV2KKC8l5im",
        "colab": {
          "base_uri": "https://localhost:8080/",
          "height": 17
        },
        "outputId": "f2d0592a-1782-4309-ef8f-dabb47532d57"
      },
      "outputs": [
        {
          "output_type": "display_data",
          "data": {
            "text/plain": [
              "<IPython.core.display.HTML object>"
            ],
            "text/html": [
              "\n",
              "  <style>\n",
              "    pre {\n",
              "        white-space: pre-wrap;\n",
              "    }\n",
              "  </style>\n",
              "  "
            ]
          },
          "metadata": {}
        },
        {
          "output_type": "display_data",
          "data": {
            "text/plain": [
              "<IPython.core.display.HTML object>"
            ],
            "text/html": [
              "\n",
              "  <style>\n",
              "    pre {\n",
              "        white-space: pre-wrap;\n",
              "    }\n",
              "  </style>\n",
              "  "
            ]
          },
          "metadata": {}
        }
      ],
      "source": [
        "def predict(question_id, prediction_percentage):\n",
        "  prediction_decimal = float(prediction_percentage) / 100.0\n",
        "  url = f\"https://www.metaculus.com/api2/questions/{question_id}/predict/\"\n",
        "  response = requests.post(\n",
        "      url,\n",
        "      json={\n",
        "        \"prediction\": prediction_decimal\n",
        "      },\n",
        "      headers={\"Authorization\": f\"Token {metaculus_token}\"},\n",
        "  )\n",
        "  response.raise_for_status()\n",
        "  print(f\"Successfully predicted {prediction_percentage}% ({prediction_decimal}) on question {question_id}\")\n"
      ]
    },
    {
      "cell_type": "code",
      "execution_count": 28,
      "metadata": {
        "id": "AJUGVfHVrms2",
        "colab": {
          "base_uri": "https://localhost:8080/",
          "height": 17
        },
        "outputId": "9402fad0-ded8-4a60-e2a6-c76948017bc3"
      },
      "outputs": [
        {
          "output_type": "display_data",
          "data": {
            "text/plain": [
              "<IPython.core.display.HTML object>"
            ],
            "text/html": [
              "\n",
              "  <style>\n",
              "    pre {\n",
              "        white-space: pre-wrap;\n",
              "    }\n",
              "  </style>\n",
              "  "
            ]
          },
          "metadata": {}
        },
        {
          "output_type": "display_data",
          "data": {
            "text/plain": [
              "<IPython.core.display.HTML object>"
            ],
            "text/html": [
              "\n",
              "  <style>\n",
              "    pre {\n",
              "        white-space: pre-wrap;\n",
              "    }\n",
              "  </style>\n",
              "  "
            ]
          },
          "metadata": {}
        }
      ],
      "source": [
        "def formulate_comment(prediction_json):\n",
        "  comment_blocks = []\n",
        "  if \"reasoning_base_rate\" in prediction_json:\n",
        "    comment_blocks.append(\"## Base rate estimation\")\n",
        "    comment_blocks.append(prediction_json[\"reasoning_base_rate\"])\n",
        "  if \"reasoning_reference_classes\" in prediction_json:\n",
        "    comment_blocks.append(\"## Reference classes\")\n",
        "    comment_blocks.append(prediction_json[\"reasoning_reference_classes\"])\n",
        "  if \"reasoning_other\" in prediction_json:\n",
        "    comment_blocks.append(\"## Additional\")\n",
        "    comment_blocks.append(prediction_json[\"reasoning_other\"])\n",
        "  return \"\\n\".join(comment_blocks) if comment_blocks else \"No reasoning provided\""
      ]
    },
    {
      "cell_type": "code",
      "execution_count": 29,
      "metadata": {
        "id": "7uhKwbzQsKby",
        "colab": {
          "base_uri": "https://localhost:8080/",
          "height": 17
        },
        "outputId": "9dd99eaa-3fb5-440a-b55e-1e1be9e25b66"
      },
      "outputs": [
        {
          "output_type": "display_data",
          "data": {
            "text/plain": [
              "<IPython.core.display.HTML object>"
            ],
            "text/html": [
              "\n",
              "  <style>\n",
              "    pre {\n",
              "        white-space: pre-wrap;\n",
              "    }\n",
              "  </style>\n",
              "  "
            ]
          },
          "metadata": {}
        },
        {
          "output_type": "display_data",
          "data": {
            "text/plain": [
              "<IPython.core.display.HTML object>"
            ],
            "text/html": [
              "\n",
              "  <style>\n",
              "    pre {\n",
              "        white-space: pre-wrap;\n",
              "    }\n",
              "  </style>\n",
              "  "
            ]
          },
          "metadata": {}
        }
      ],
      "source": [
        "def comment(question_id, comment_text):\n",
        "\n",
        "  # for submit_type choose \"S\" to post regular comment and \"N\" for private. Tournament submissions should be private comments.\n",
        "  url = f\"https://www.metaculus.com/api2/comments/\"\n",
        "  response = requests.post(\n",
        "    url,\n",
        "    json={\n",
        "      \"comment_text\":comment_text,\"submit_type\":\"N\",\"include_latest_prediction\":True,\"question\":question_id\n",
        "    },\n",
        "    headers={\"Authorization\": f\"Token {metaculus_token}\"},\n",
        "  )\n",
        "  response.raise_for_status()\n",
        "  print(\"Comment Success!\")"
      ]
    },
    {
      "cell_type": "code",
      "source": [
        "def estimate_pricing(input, output, model):\n",
        "  encoding = tiktoken.encoding_for_model(model)\n",
        "  input_len = len(encoding.encode(input))\n",
        "  output_len = len(encoding.encode(output))\n",
        "\n",
        "\n",
        "  # hard coding for now, maybe make it smarter later\n",
        "  # units of $ per token\n",
        "  gpt4o_input_pricing = 5 / 1_000_000\n",
        "  gpt4o_output_pricing = 15 / 1_000_000\n",
        "\n",
        "  input_cost = input_len * gpt4o_input_pricing\n",
        "  output_cost = output_len * gpt4o_output_pricing\n",
        "  total_cost = input_cost + output_cost\n",
        "\n",
        "  return input_cost, output_cost, total_cost"
      ],
      "metadata": {
        "colab": {
          "base_uri": "https://localhost:8080/",
          "height": 17
        },
        "id": "THGjV1tPd_7Q",
        "outputId": "2095b11e-976b-40e4-b035-afdf9b53a30a"
      },
      "execution_count": 30,
      "outputs": [
        {
          "output_type": "display_data",
          "data": {
            "text/plain": [
              "<IPython.core.display.HTML object>"
            ],
            "text/html": [
              "\n",
              "  <style>\n",
              "    pre {\n",
              "        white-space: pre-wrap;\n",
              "    }\n",
              "  </style>\n",
              "  "
            ]
          },
          "metadata": {}
        },
        {
          "output_type": "display_data",
          "data": {
            "text/plain": [
              "<IPython.core.display.HTML object>"
            ],
            "text/html": [
              "\n",
              "  <style>\n",
              "    pre {\n",
              "        white-space: pre-wrap;\n",
              "    }\n",
              "  </style>\n",
              "  "
            ]
          },
          "metadata": {}
        }
      ]
    },
    {
      "cell_type": "code",
      "source": [
        "def run_llm(today, client, template_values, prompt_template, summary_report, model, looking_for_probability=True):\n",
        "\n",
        "  title = template_values[\"title\"]\n",
        "  resolution_criteria = template_values[\"resolution_criteria\"]\n",
        "  background = template_values[\"description\"]\n",
        "  if template_values[\"fine_print\"]:\n",
        "    fine_print = template_values[\"fine_print\"]\n",
        "  else:\n",
        "    fine_print = \"none\"\n",
        "\n",
        "  prompt_dict = {\n",
        "      \"title\": title,\n",
        "      \"summary_report\": summary_report,\n",
        "      \"today\": today,\n",
        "      \"background\": background,\n",
        "      \"fine_print\": fine_print,\n",
        "      \"resolution_criteria\": resolution_criteria,\n",
        "  }\n",
        "\n",
        "  prompt_text = replace_keys(prompt_template, prompt_dict)\n",
        "\n",
        "  #print(\"Here is the prompt used:\")\n",
        "  #print(\"prompt_text\")\n",
        "  #print(prompt_text)\n",
        "  #print(\"\")\n",
        "\n",
        "  chat_completion = client.chat.completions.create(\n",
        "    model=model,\n",
        "    messages=[\n",
        "      {\n",
        "        \"role\": \"user\",\n",
        "        \"content\": prompt_text\n",
        "      }\n",
        "    ]\n",
        "  )\n",
        "\n",
        "  gpt_text = chat_completion.choices[0].message.content\n",
        "\n",
        "  #estimate cost\n",
        "  input_cost, output_cost, total_cost = estimate_pricing(prompt_text, gpt_text, model)\n",
        "\n",
        "  if looking_for_probability:\n",
        "    # Regular expression to find the number following 'Probability: '\n",
        "    try:\n",
        "      probability_match, confidence_match = extract_probability_and_confidence(gpt_text)\n",
        "    except:\n",
        "      print('Error extracting numbers from text:')\n",
        "      print(gpt_text)\n",
        "      raise ValueError\n",
        "\n",
        "    # Extract the number if a match is found\n",
        "    if probability_match:\n",
        "        #probability = int(probability_match) # int(match.group(1))\n",
        "        probability = float(probability_match)\n",
        "        #print(f\"The extracted probability is: {probability}%\")\n",
        "        #probability = min(max(probability, 3), 97) # To prevent extreme forecasts\n",
        "    else:\n",
        "        probability = None\n",
        "        print(\"No probability found in the text! Skipping!\")\n",
        "        # Extract the number if a match is found\n",
        "    if confidence_match:\n",
        "        #probability = int(probability_match) # int(match.group(1))\n",
        "        confidence = float(confidence_match)\n",
        "        #print(f\"The extracted probability is: {probability}%\")\n",
        "        #probability = min(max(probability, 3), 97) # To prevent extreme forecasts\n",
        "    else:\n",
        "        confidence = None\n",
        "        print(\"No confidence found in the text! Skipping!\")\n",
        "  else:\n",
        "    probability = None\n",
        "    confidence = None\n",
        "  return probability, confidence, gpt_text, input_cost, output_cost, total_cost\n",
        "\n",
        "\n",
        "def run_llm_metaculus(today, template_values, prompt_template, summary_report, model, looking_for_probability=True):\n",
        "\n",
        "  title = template_values[\"title\"]\n",
        "  resolution_criteria = template_values[\"resolution_criteria\"]\n",
        "  background = template_values[\"description\"]\n",
        "  if template_values[\"fine_print\"]:\n",
        "    fine_print = template_values[\"fine_print\"]\n",
        "  else:\n",
        "    fine_print = \"none\"\n",
        "\n",
        "  prompt_dict = {\n",
        "      \"title\": title,\n",
        "      \"summary_report\": summary_report,\n",
        "      \"today\": today,\n",
        "      \"background\": background,\n",
        "      \"fine_print\": fine_print,\n",
        "      \"resolution_criteria\": resolution_criteria,\n",
        "  }\n",
        "\n",
        "  prompt_text = replace_keys(prompt_template, prompt_dict)\n",
        "\n",
        "  #print(\"Here is the prompt used:\")\n",
        "  #print(\"prompt_text\")\n",
        "  #print(prompt_text)\n",
        "  #print(\"\")\n",
        "\n",
        "  url = \"https://www.metaculus.com/proxy/openai/v1/chat/completions\"\n",
        "  auth_token = metaculus_token\n",
        "\n",
        "  # Define the payload as a dictionary\n",
        "  payload = {\n",
        "      \"model\": model,\n",
        "      \"messages\": [\n",
        "          { \"role\": \"user\", \"content\": prompt_text },\n",
        "      ]\n",
        "  }\n",
        "\n",
        "  # Set the headers\n",
        "  headers = {\n",
        "      \"Content-Type\": \"application/json\",\n",
        "      \"Authorization\": f\"Token {auth_token}\"\n",
        "  }\n",
        "\n",
        "  # Make the POST request\n",
        "  response = requests.post(url, headers=headers, data=json.dumps(payload))\n",
        "\n",
        "  # Check if the request was successful\n",
        "  if response.status_code == 200:\n",
        "      print(\"Request was successful!\")\n",
        "\n",
        "      # Parse the response JSON\n",
        "      result = response.json()\n",
        "\n",
        "      # Extract the desired text\n",
        "      gpt_text = result[\"choices\"][0][\"message\"][\"content\"]\n",
        "\n",
        "      # Print the extracted content\n",
        "      #print(gpt_text)\n",
        "\n",
        "  else:\n",
        "      print(f\"Request failed with status code: {response.status_code}\")\n",
        "      print(response.text)\n",
        "      raise ValueError\n",
        "\n",
        "  #estimate cost\n",
        "  input_cost, output_cost, total_cost = estimate_pricing(prompt_text, gpt_text, model)\n",
        "\n",
        "  if looking_for_probability:\n",
        "    # Regular expression to find the number following 'Probability: '\n",
        "    try:\n",
        "      probability_match, confidence_match = extract_probability_and_confidence(gpt_text)\n",
        "    except:\n",
        "      print('Error extracting numbers from text:')\n",
        "      print(gpt_text)\n",
        "      raise ValueError\n",
        "\n",
        "    # Extract the number if a match is found\n",
        "    if probability_match:\n",
        "        #probability = int(probability_match) # int(match.group(1))\n",
        "        probability = float(probability_match)\n",
        "        #print(f\"The extracted probability is: {probability}%\")\n",
        "        #probability = min(max(probability, 3), 97) # To prevent extreme forecasts\n",
        "    else:\n",
        "        probability = None\n",
        "        print(\"No probability found in the text! Skipping!\")\n",
        "        # Extract the number if a match is found\n",
        "    if confidence_match:\n",
        "        #probability = int(probability_match) # int(match.group(1))\n",
        "        confidence = float(confidence_match)\n",
        "        #print(f\"The extracted probability is: {probability}%\")\n",
        "        #probability = min(max(probability, 3), 97) # To prevent extreme forecasts\n",
        "    else:\n",
        "        confidence = None\n",
        "        print(\"No confidence found in the text! Skipping!\")\n",
        "  else:\n",
        "    probability = None\n",
        "    confidence = None\n",
        "  return probability, confidence, gpt_text, input_cost, output_cost, total_cost"
      ],
      "metadata": {
        "colab": {
          "base_uri": "https://localhost:8080/",
          "height": 17
        },
        "id": "XK4FbnKJb98Q",
        "outputId": "a6cdc4c7-90b6-447f-ff8d-b366ee4bc51a"
      },
      "execution_count": 41,
      "outputs": [
        {
          "output_type": "display_data",
          "data": {
            "text/plain": [
              "<IPython.core.display.HTML object>"
            ],
            "text/html": [
              "\n",
              "  <style>\n",
              "    pre {\n",
              "        white-space: pre-wrap;\n",
              "    }\n",
              "  </style>\n",
              "  "
            ]
          },
          "metadata": {}
        },
        {
          "output_type": "display_data",
          "data": {
            "text/plain": [
              "<IPython.core.display.HTML object>"
            ],
            "text/html": [
              "\n",
              "  <style>\n",
              "    pre {\n",
              "        white-space: pre-wrap;\n",
              "    }\n",
              "  </style>\n",
              "  "
            ]
          },
          "metadata": {}
        }
      ]
    },
    {
      "cell_type": "code",
      "source": [
        "def call_perplexity(perplexity_prompt, perplexity_api_key):\n",
        "\n",
        "  from openai import OpenAI\n",
        "\n",
        "  YOUR_API_KEY = perplexity_api_key\n",
        "\n",
        "  messages = [\n",
        "      {\n",
        "          \"role\": \"system\",\n",
        "          \"content\": (\n",
        "              \"You are an artificial intelligence assistant and you need to \"\n",
        "              \"engage in a helpful, detailed, polite conversation with a user.\"\n",
        "          ),\n",
        "      },\n",
        "      {\n",
        "          \"role\": \"user\",\n",
        "          \"content\": (\n",
        "              perplexity_prompt\n",
        "          ),\n",
        "      },\n",
        "  ]\n",
        "\n",
        "  perplexity_client = OpenAI(api_key=YOUR_API_KEY, base_url=\"https://api.perplexity.ai\")\n",
        "\n",
        "  # chat completion without streaming\n",
        "  response = perplexity_client.chat.completions.create(\n",
        "      model=PERPLEXITY_MODEL,\n",
        "      messages=messages,\n",
        "  )\n",
        "\n",
        "  content = response.choices[0].message.content\n",
        "\n",
        "  print(\"Generated research from perplexity:\")\n",
        "  print(content)\n",
        "  print(\"\")\n",
        "\n",
        "  # get token and cost estimate\n",
        "\n",
        "  # currently using the GPT tokenizer with a 1.3 multiplier. Hacky and wrong, but rough estimate.\n",
        "  # See here for 1.3 factor estimate source: https://github.com/continuedev/continue/issues/878\n",
        "\n",
        "  perplexity_token_pricing = 1/1_000_000\n",
        "  perplexity_cost_fixed = 5/1_000\n",
        "\n",
        "  multiplier = 1.3\n",
        "  encoding = tiktoken.encoding_for_model(OPEN_AI_MODEL)\n",
        "  input_text = perplexity_prompt\n",
        "  output_text = content\n",
        "  input_len = len(encoding.encode(input_text)) * multiplier\n",
        "  output_len = len(encoding.encode(output_text)) * multiplier\n",
        "\n",
        "  input_cost = input_len * perplexity_token_pricing\n",
        "  output_cost = output_len * perplexity_token_pricing\n",
        "  fixed_cost = perplexity_cost_fixed\n",
        "  total_cost = input_cost + output_cost + perplexity_cost_fixed\n",
        "\n",
        "  print(f\"Total perplexity call cost: ${total_cost}\")\n",
        "  print(\"\")\n",
        "\n",
        "  return content, total_cost"
      ],
      "metadata": {
        "colab": {
          "base_uri": "https://localhost:8080/",
          "height": 17
        },
        "id": "gWXOgDDWx7il",
        "outputId": "230daf8a-3e3e-4d62-918f-4b1eeb01590e"
      },
      "execution_count": 32,
      "outputs": [
        {
          "output_type": "display_data",
          "data": {
            "text/plain": [
              "<IPython.core.display.HTML object>"
            ],
            "text/html": [
              "\n",
              "  <style>\n",
              "    pre {\n",
              "        white-space: pre-wrap;\n",
              "    }\n",
              "  </style>\n",
              "  "
            ]
          },
          "metadata": {}
        },
        {
          "output_type": "display_data",
          "data": {
            "text/plain": [
              "<IPython.core.display.HTML object>"
            ],
            "text/html": [
              "\n",
              "  <style>\n",
              "    pre {\n",
              "        white-space: pre-wrap;\n",
              "    }\n",
              "  </style>\n",
              "  "
            ]
          },
          "metadata": {}
        }
      ]
    },
    {
      "cell_type": "code",
      "execution_count": 33,
      "metadata": {
        "id": "W-wVKhWomV2C",
        "colab": {
          "base_uri": "https://localhost:8080/",
          "height": 17
        },
        "outputId": "8e60797e-9a02-4731-f9f7-55f0566a68a9"
      },
      "outputs": [
        {
          "output_type": "display_data",
          "data": {
            "text/plain": [
              "<IPython.core.display.HTML object>"
            ],
            "text/html": [
              "\n",
              "  <style>\n",
              "    pre {\n",
              "        white-space: pre-wrap;\n",
              "    }\n",
              "  </style>\n",
              "  "
            ]
          },
          "metadata": {}
        },
        {
          "output_type": "display_data",
          "data": {
            "text/plain": [
              "<IPython.core.display.HTML object>"
            ],
            "text/html": [
              "\n",
              "  <style>\n",
              "    pre {\n",
              "        white-space: pre-wrap;\n",
              "    }\n",
              "  </style>\n",
              "  "
            ]
          },
          "metadata": {}
        }
      ],
      "source": [
        "def clean_gpt_turbo_markdown(text: str) -> str:\n",
        "  match = re.search(r\"```[\\w]+\\s+(.*?)\\s+```\", text, re.DOTALL)\n",
        "  if match:\n",
        "    cleaned_text = match.group(1).strip()\n",
        "  else:\n",
        "    cleaned_text = text\n",
        "  return cleaned_text"
      ]
    },
    {
      "cell_type": "markdown",
      "metadata": {
        "id": "iwc6I64ScFUz"
      },
      "source": [
        "Execution"
      ]
    },
    {
      "cell_type": "code",
      "execution_count": 42,
      "metadata": {
        "id": "3C52dUgSG6Pt",
        "colab": {
          "base_uri": "https://localhost:8080/",
          "height": 1000
        },
        "outputId": "714a2a26-6071-4ca6-a3cc-62d947d00f06"
      },
      "outputs": [
        {
          "output_type": "display_data",
          "data": {
            "text/plain": [
              "<IPython.core.display.HTML object>"
            ],
            "text/html": [
              "\n",
              "  <style>\n",
              "    pre {\n",
              "        white-space: pre-wrap;\n",
              "    }\n",
              "  </style>\n",
              "  "
            ]
          },
          "metadata": {}
        },
        {
          "output_type": "display_data",
          "data": {
            "text/plain": [
              "<IPython.core.display.HTML object>"
            ],
            "text/html": [
              "\n",
              "  <style>\n",
              "    pre {\n",
              "        white-space: pre-wrap;\n",
              "    }\n",
              "  </style>\n",
              "  "
            ]
          },
          "metadata": {}
        },
        {
          "output_type": "stream",
          "name": "stdout",
          "text": [
            "Now Forecasting Question:\n",
            "26392 Will OpenAI announce GPT-5 before September 30, 2024?\n",
            "\n",
            "\n",
            "Getting Perplexity recent data...\n",
            "\n",
            "Request was successful!\n",
            "The completed question posed to perplexity reads: What is the most recent news available and prior occurrences related to \"What is the most recent news available and prior occurrences related to OpenAI's development and announcements regarding GPT models, particularly any updates on GPT-5?\"\n",
            "Generated research from perplexity:\n",
            "The most recent news available and prior occurrences related to OpenAI's development and announcements regarding GPT models, particularly any updates on GPT-5, are as follows:\n",
            "\n",
            "1. **GPT-4o mini**: OpenAI recently announced GPT-4o mini, a cost-efficient small model that significantly expands the range of applications built with AI by making intelligence more affordable. It supports text and vision in the API and is priced at 15 cents per million input tokens and 60 cents per million output tokens, making it more than 60% cheaper than GPT-3.5 Turbo.\n",
            "\n",
            "2. **GPT-4o**: GPT-4o is OpenAI's most advanced, multimodal flagship model that is cheaper and faster than GPT-4 Turbo. It has the same high intelligence as GPT-4 Turbo but generates text 2x faster and is 50% cheaper. It is available in the OpenAI API to paying customers and supports a 128K context window.\n",
            "\n",
            "3. **GPT-4 Turbo**: GPT-4 Turbo is a more capable and cheaper model that supports a 128K context window. It includes features such as reproducible outputs and log probabilities, making it useful for debugging and unit testing. The model is also available in the OpenAI API.\n",
            "\n",
            "4. **GPT-3.5 Turbo**: GPT-3.5 Turbo is an updated version of GPT-3.5 that supports a 16K context window by default. It includes improved instruction following, JSON mode, and parallel function calling. Developers can access this model by calling `gpt-3.5-turbo-1106` in the API.\n",
            "\n",
            "5. **GPT-5**: Although there is no official release date announced, estimates suggest that ChatGPT-5 might be released sometime in late 2024 or early 2025 based on various clues, including interviews with OpenAI CEO Sam Altman.\n",
            "\n",
            "These updates and announcements highlight OpenAI's continuous efforts to improve and expand the capabilities of their GPT models, making AI more accessible and cost-effective for developers and users.\n",
            "\n",
            "Total perplexity call cost: $0.0056019\n",
            "\n",
            "Running initial prompt 1\n",
            "Request was successful!\n",
            "Output Reasoning:\n",
            "### Step-by-Step Reasoning\n",
            "\n",
            "#### 1. **Analyzing Past Trends**\n",
            "   - **Historical Announcements**: OpenAI has a history of announcing new GPT models approximately once a year. For example:\n",
            "     - GPT-2: Announced in February 2019.\n",
            "     - GPT-3: Announced in June 2020.\n",
            "     - GPT-4: Announced in March 2023.\n",
            "     - GPT-4o: Announced in May 2024.\n",
            "\n",
            "This pattern suggests a relatively quick turnaround between generations, suggesting OpenAI is likely motivated to continue advancing their models on a similar annual cycle.\n",
            "\n",
            "#### 2. **Current State and Intermediate Updates**\n",
            "   - **Recent Announcements**: The announcement of GPT-4o in May 2024 and GPT-4o mini indicate continuous updates and optimizations between major releases.\n",
            "   - **Community Expectations and Statements**: There is no official release date for GPT-5, but ChatGPT-5 is estimated for late 2024 or early 2025 based on statements from OpenAI's CEO.\n",
            "\n",
            "The lack of a firm timeline for GPT-5’s release, in combination with recent intermediate model updates, suggests that OpenAI is working on incremental improvements, which could delay the announcement of GPT-5.\n",
            "\n",
            "#### 3. **Base Rates and Market Dynamics**\n",
            "   - **Competitive Pressure**: The AI landscape is highly competitive, and OpenAI might feel pressured to maintain cutting-edge technology by announcing new powerful models.\n",
            "   - **Technological Progress**: The rapid evolution of AI technologies might push OpenAI to unveil GPT-5 sooner to stay ahead of competitors.\n",
            "\n",
            "#### 4. **Consideration of Financial and Operational Efficiencies**\n",
            "   - **Cost-Effectiveness**: Recent models like GPT-4o mini and GPT-4 Turbo emphasize cost reduction and operational efficiency, possibly indicating a strategic focus on improving and optimizing existing models before jumping to a new generation.\n",
            "   - **Resource Allocation**: The substantial development of intermediate models suggests that significant resources are being allocated towards refining current capabilities, which might delay the introduction of a completely new model like GPT-5 until these improvements plateau.\n",
            "\n",
            "#### 5. **Uncertainties and Potential Delays**\n",
            "   - **Training and Testing Phases**: The complexity of developing and rigorously testing a new model like GPT-5 could introduce delays.\n",
            "   - **Increasing Model Sophistication**: The incremental complexity with each new generation of GPT models might lengthen development cycles.\n",
            "\n",
            "### Synthesis and Final Probability\n",
            "Based on the historical pattern of annual announcements, the timing of GPT-4o’s release, and statements about anticipated timelines suggesting late 2024 or early 2025 for GPT-5, it's plausible to think OpenAI might aim for an announcement close to the end of 2024. However, the specific cut-off date of September 30, 2024, has a slightly lower likelihood given current focus on incremental model releases and ongoing development efforts.\n",
            "\n",
            "### Final Forecast\n",
            "Considering all the factors discussed:\n",
            "\n",
            "**Probability: 45.0% - Confidence: 85.0%**\n",
            "\n",
            "Extracted probability percentage value (0-100): 45.0\n",
            "\n",
            "~~~~ NEXT PROMPT ~~~~\n",
            "\n",
            "Running initial prompt 2\n",
            "Request was successful!\n",
            "Output Reasoning:\n",
            "### Step-by-Step Reasoning\n",
            "\n",
            "#### 1. **Base Rate Analysis (Outside View):**\n",
            "   - Historically, the time between releases of GPT models has been relatively short, often less than a year. GPT-3 was released in June 2020, GPT-3.5 in May 2022, and GPT-4 in March 2023. This indicates a roughly 1-year cadence for major releases.\n",
            "   - Here are the historical intervals:\n",
            "     - GPT-3 to GPT-3.5: ~2 years\n",
            "     - GPT-3.5 to GPT-4: ~10 months\n",
            "     - GPT-4 to GPT-4 Turbo: ~6 months (incremental improvement, not an entirely new model)\n",
            "\n",
            "#### 2. **Recent Announcements and Trends:**\n",
            "   - GPT-4o was announced in May 2024. Given this recent announcement, it suggests that a massively revamped model like GPT-5 can take a bit longer for development unless OpenAI is significantly accelerating their release schedule.\n",
            "   - The announcement of GPT-4o and corresponding mini versions (GPT-4 Turbo, GPT-4o mini) indicates a trend of making incremental updates and cost-effective versions of existing models rather than releasing entirely new models immediately after major announcements.\n",
            "\n",
            "#### 3. **Internal Notes from OpenAI Executives:**\n",
            "   - Interviews and statements from OpenAI CEO Sam Altman hint that GPT-5 might not be ready until late 2024 or early 2025. While these statements are not definitive, they suggest a longer timeline.\n",
            "\n",
            "#### 4. **Technological Constraints and Market Strategy:**\n",
            "   - Developing a new major model version like GPT-5 requires significant time for improvements, training, testing, and validating. Given that GPT-4o is being positioned as the state-of-the-art model as of mid-2024, it is unlikely that GPT-5 would follow within a very short period post this announcement.\n",
            "   - OpenAI also likely understands the value of strategically spacing out their major model announcements to maximize market impact, adoption, and profitability. \n",
            "\n",
            "#### 5. **Current Date and Timeline Considerations:**\n",
            "   - Today is 2024-07-22. Therefore, there are a bit more than 2 months left until the deadline (September 30, 2024). Given the context, it seems challenging for OpenAI to push out and establish a new flagship model in such a short time frame from their latest major release.\n",
            "\n",
            "#### 6. **Consistency with Fine Print and Resolution Criteria:**\n",
            "   - The assessment must be according to a substantial publication confirming the existence and some performance results of GPT-5. Statements mentioning only progress or development would not qualify.\n",
            "\n",
            "### Conclusion\n",
            "Considering the base rate of previous releases, recent announcements, executive discussions, typical development timeframes, and current date, it seems unlikely that OpenAI will announce GPT-5 by September 30, 2024.\n",
            "\n",
            "### Forecast and Confidence\n",
            "Probability: 20.0% - Confidence: 90.0%\n",
            "\n",
            "Extracted probability percentage value (0-100): 20.0\n",
            "\n",
            "~~~~ NEXT PROMPT ~~~~\n",
            "\n",
            "Running initial prompt 3\n",
            "Request was successful!\n",
            "Output Reasoning:\n",
            "To forecast accurately whether OpenAI will announce GPT-5 before September 30, 2024, let's analyze the provided information thoroughly:\n",
            "\n",
            "1. **Current Timeline and Context**:\n",
            "   - Today is July 22, 2024. \n",
            "   - Historical releases provide context for their release cadence:\n",
            "     - GPT-4 (released March 2023)\n",
            "     - GPT-4 Turbo (no specific release date but presumably after GPT-4)\n",
            "     - GPT-4o (released May 2024)\n",
            "     - GPT-4o mini (released after GPT-4o)\n",
            "   - With major releases for GPT-4 family models occurring recently, it's reasonable to look at the trend of incremental improvements and whether they suggest an imminent leap to GPT-5.\n",
            "\n",
            "2. **Current Model Releases**:\n",
            "   - OpenAI has recently released several variants improving upon GPT-4, including GPT-4o and GPT-4o mini. These incremental model releases indicate a focus on optimizing and diversifying GPT-4 technologies rather than pushing to a new iteration (i.e., GPT-5) in the immediate term.\n",
            "   \n",
            "3. **Forecasting Bias and Business as Usual**:\n",
            "   - Recognizing a bias that significant deviations from current trends (like a new major model announcement) tend not to happen within short spans unless there's strong historical precedence.\n",
            "   - OpenAI's current pattern involves incremental improvements and multiple product variants from an existing model before moving to the next major iteration.\n",
            "\n",
            "4. **Expectation Management and Corporate Strategy**:\n",
            "   - OpenAI likely aims to maximize the utility and commercialization of existing iterations (GPT-4, GPT-4 Turbo, GPT-4o, GPT-4o mini). They focus on stabilizing and making these models widely adopted before moving to the next iteration, especially when substantial advancements in current technology are realizable in the medium term.\n",
            "\n",
            "5. **External Statements and Indications**:\n",
            "   - Estimates and official communications suggest that GPT-5 might be released in late 2024 or early 2025. Late 2024 could indicate announcements towards the year’s end rather than before September 30, considering strategic planning and marketing cycles.\n",
            "\n",
            "6. **Technological Development and Testing**:\n",
            "   - The detailed criteria indicate that performance results or a definitive statement of existence are necessary for the question to resolve as Yes. Given the advanced stage required for such performance disclosures, substantial visibility like beta tests, leaks, or pre-announcement teasers would normally occur beforehand, none of which has been prominently noted.\n",
            "\n",
            "Given these points, the conclusion is primarily driven by prevalent trends, strategic patterns, statements from OpenAI, and the likely time required between stages of development, release preparation, and major announcements:\n",
            "\n",
            "**Final Forecast**:\n",
            "Probability: 15.0% - Confidence: 95.0%\n",
            "\n",
            "Extracted probability percentage value (0-100): 15.0\n",
            "\n",
            "~~~~ NEXT PROMPT ~~~~\n",
            "\n",
            "+++++++++++ FINAL PROMPT (4) +++++++++++++++++\n",
            "Running final prompt...\n",
            "Request was successful!\n",
            "\n",
            "Final prompt's individual (non-weighted) extracted probability percentage value (0-100): 25.0\n",
            "\n",
            "Rationale to submit:\n",
            "\n",
            "\n",
            "  *This forecast is produced from several prompts initially making forecasts, then a summary forecaster looks over all the previous forecasts and rationales and assess them for level of convincingness before giving its own forecast.  Then a weighted forecast is produced by combining all the inidividual and summary forecasts, weighted based on the initial forecasters' reported confidence and an independently assessed level of rationale strength.  The individual forecasts are reasoned based on knowledge stored inside the latest OpenAI GPT models, supplemented with recent information from targeted Perplexity search results.*\n",
            "\n",
            "  * *Main LLM Model used: gpt-4o*\n",
            "  * *Weighted formula: (0.19767)(Forecaster A) + (0.2093)(Forecaster B) + (0.22093)(Forecaster C) + (0.37209)(Summary Forecaster)*\n",
            "  * *** FINAL WEIGHTED FORECAST: 25.7%***\n",
            "\n",
            "  ---\n",
            "\n",
            "  \n",
            "\n",
            "Successfully predicted 25.7% (0.257) on question 26392\n",
            "Comment Success!\n",
            "Output Reasoning:\n",
            "Given the information provided, let's go through a detailed reasoning process step by step to arrive at a probability forecast for the question of whether OpenAI will announce GPT-5 before September 30, 2024.\n",
            "\n",
            "1. **Current State of OpenAI's Model Releases**:\n",
            "   - The most recent models announced are GPT-4o and its variants.\n",
            "   - OpenAI has been regularly updating its models and making announcements about innovations and cost reductions (e.g., GPT-4o mini).\n",
            "   - There's no official announcement or release date for GPT-5 yet. However, it is suggested that GPT-5 might be released in late 2024 or early 2025.\n",
            "\n",
            "2. **Historical Patterns and Timing**:\n",
            "   - OpenAI has shown a pattern of continuous improvements and releases.\n",
            "   - Previous models have typically been announced a few months before their availability. For instance, GPT-4 was announced in March 2023, and GPT-4 Turbo followed later that same year.\n",
            "   - Based on this pattern, if GPT-5 were to be released in early 2025, an announcement might be made a few months prior (late 2024).\n",
            "\n",
            "3. **Fine Print Considerations**:\n",
            "   - The question resolves as \"Yes\" if OpenAI publishes a document announcing the existence of GPT-5 by discussing performance results or stating its creation.\n",
            "   - GPT-5 must be explicitly announced by OpenAI or an entity legally merged with it, eliminating ambiguity around announcements from third parties.\n",
            "\n",
            "4. **Interviews and Speculative Information**:\n",
            "   - Interviews with OpenAI executives suggest a timeframe (late 2024 to early 2025) but do not provide concrete dates.\n",
            "   - These pieces of evidence are less reliable but still useful to gauge OpenAI's strategic plans.\n",
            "\n",
            "5. **Bias Toward Business as Usual**:\n",
            "   - Given the tendency for forecasting questions to err on the side of events not occurring, it's reasonable to be cautious about an announcement happening much earlier than speculative sources suggest.\n",
            "\n",
            "6. **Potential Edge Cases and Uncertainty**:\n",
            "   - Unforeseen technological advances or strategic shifts at OpenAI might accelerate the timeline.\n",
            "   - Conversely, delays in development could push the announcement further into 2025.\n",
            "\n",
            "**Considering all these factors, here's the synthesis:**\n",
            "\n",
            "- **Historical Patterns and Timelines**:\n",
            "   - If GPT-5 is to be released in early 2025, an announcement might be expected a few months before, possibly around late 2024.\n",
            "   - Given the date is July 22, 2024, the window for an announcement is quite narrow (a little over 2 months).\n",
            "\n",
            "- **Current Announcements and Progress**:\n",
            "   - The recent focus appears to be on optimizing and cost-reducing existing models rather than introducing a completely new generation (GPT-5).\n",
            "\n",
            "- **Strategic Conservatism**:\n",
            "   - Bias towards the usual slow cadence and cautious rollout suggests it is less likely an announcement will come by September 30, 2024.\n",
            "\n",
            "Final Probability Forecast:\n",
            "**Probability: 25.0%** - Given the current information, it’s more likely that GPT-5 will not be announced before September 30, 2024, but there is still a non-negligible chance it might occur close to the end of the forecast window.\n",
            "**Confidence: 80.0%** - Feel reasonably confident about this probability given the detailed analysis of historical trends, speculative information, and business as usual biases.\n",
            "\n",
            "**Final Answer:**\n",
            "Probability: 25.0% - Confidence: 80.0%\n",
            "\n",
            "FINAL WEIGHTED FORECAST:\n",
            "25.7%\n",
            "\n",
            "Overall cost was: $0.060605\n",
            "\n",
            "################ NEXT QUESTION #################\n",
            "\n",
            "Finished forecasting on 1 questions.\n"
          ]
        }
      ],
      "source": [
        "today = datetime.datetime.now().strftime(\"%Y-%m-%d\")\n",
        "#USE_METACULUS_PROXY_ENDPOINT = True\n",
        "#if USE_METACULUS_PROXY_ENDPOINT:\n",
        "#  client = OpenAI(base_url='https://www.metaculus.com/proxy/openai/v1/chat/completions')\n",
        "#else:\n",
        "#  client = OpenAI()\n",
        "model = OPEN_AI_MODEL\n",
        "ENABLE_PERPLEXITY_RESEARCH = False  # Previously this could be set to True to get and use pre-computed Perplexity research results for the question, set to False otherwise.\n",
        "# However, Metaculus no longer supports pre-computed Perplexity research, so it has been permanently set to False here to skip over that setp.\n",
        "\n",
        "prompt_templates = [prompt_template_v1 + QUESTION_INFO_TEMPLATE, prompt_template_v2 + QUESTION_INFO_TEMPLATE, prompt_template_v3 + QUESTION_INFO_TEMPLATE]\n",
        "\n",
        "forecasted_count = 0\n",
        "\n",
        "for question_to_forecast_dict in yield_all_questions():\n",
        "  if forecasted_count >= MAX_QUESTIONS_TO_FORECAST:\n",
        "    break\n",
        "  if QUESTION_IDS_TO_FORECAST is not None and question_to_forecast_dict[\"id\"] not in QUESTION_IDS_TO_FORECAST:\n",
        "    continue\n",
        "\n",
        "  print(\"Now Forecasting Question:\")\n",
        "  print(question_to_forecast_dict[\"id\"], question_to_forecast_dict[\"title\"])\n",
        "  print(\"\")\n",
        "\n",
        "  #define perplexity research to use\n",
        "  perplexity_total_cost = \"N/A\"\n",
        "\n",
        "  #if ENABLE_PERPLEXITY_RESEARCH:\n",
        "  #  summary_report = get_perplexity_research(question_to_forecast[\"id\"])\n",
        "  #else:\n",
        "  #  #summary_report = \"No results found, please use your own knowledge and judgement to forecast\"\n",
        "  #  summary_report = \"\"\n",
        "  summary_report = \"\" # ?\n",
        "\n",
        "  # set summary_report to the perplexity recent search if enabled\n",
        "  if USE_PERPLEXITY_RECENT:\n",
        "    print(\"Getting Perplexity recent data...\")\n",
        "    print (\"\")\n",
        "    #print(\"run_llm(...):\")\n",
        "    #print(\"today\", today)\n",
        "    #print(\"client\", client)\n",
        "    #print(\"question_to_forecast_dict\", question_to_forecast_dict)\n",
        "    #print(\"prompt_template_get_perplexity_question\", prompt_template_get_perplexity_question)\n",
        "    #print(\"summary_report\", summary_report)\n",
        "    #print(\"model\", model)\n",
        "\n",
        "    #get prompt completion for use with perplexity\n",
        "    #probability, confidence, perplexity_recent_prompt_completion, completion_input_cost, completion_output_cost, completion_total_cost = run_llm(today, client, question_to_forecast_dict, prompt_template_get_perplexity_question, summary_report, model, looking_for_probability=False)\n",
        "    probability, confidence, perplexity_recent_prompt_completion, completion_input_cost, completion_output_cost, completion_total_cost = run_llm_metaculus(today, question_to_forecast_dict, prompt_template_get_perplexity_question, summary_report, model, looking_for_probability=False)\n",
        "    #print(\"perplexity_recent_prompt_completion\", perplexity_recent_prompt_completion)\n",
        "    #print(\"completion_input_cost\", completion_input_cost)\n",
        "    #print(\"completion_output_cost\", completion_output_cost)\n",
        "    #print(\"completion_total_cost\", completion_total_cost)\n",
        "    #print(\"\")\n",
        "\n",
        "    perplexity_recent_prompt = \"What is the most recent news available and prior occurrences related to \" + perplexity_recent_prompt_completion\n",
        "\n",
        "    print(f\"The completed question posed to perplexity reads: {perplexity_recent_prompt}\")\n",
        "    #get recent news from perplexity\n",
        "    #print(\"call_perplexity(...)\")\n",
        "    perplexity_content, perplexity_cost = call_perplexity(perplexity_recent_prompt, perplexity_api_key)\n",
        "\n",
        "    summary_report = perplexity_content\n",
        "    perplexity_total_cost = completion_total_cost + perplexity_cost\n",
        "\n",
        "  # need to iterate through prompts here\n",
        "  all_forecasts = []\n",
        "  overall_cost = 0\n",
        "\n",
        "  i = 0\n",
        "  for prompt_template in prompt_templates:\n",
        "    i+=1\n",
        "    print(\"Running initial prompt %s\" % i)\n",
        "    #print(\"run_llm(...)\")\n",
        "    #probability, confidence, gpt_text, input_cost, output_cost, total_cost = run_llm(today, client, question_to_forecast_dict, prompt_template, summary_report, model)\n",
        "    try:\n",
        "      probability, confidence, gpt_text, input_cost, output_cost, total_cost = run_llm_metaculus(today, question_to_forecast_dict, prompt_template, summary_report, model)\n",
        "    except:\n",
        "      probability, confidence, gpt_text, input_cost, output_cost, total_cost = run_llm_metaculus(today, question_to_forecast_dict, prompt_template, summary_report, model)\n",
        "    all_forecasts.append((probability, confidence, gpt_text, input_cost, output_cost, total_cost))\n",
        "    overall_cost += total_cost\n",
        "    print(f\"Output Reasoning:\")\n",
        "    print(gpt_text)\n",
        "    print(\"\")\n",
        "    print(\"Extracted probability percentage value (0-100): %s\" % probability)\n",
        "    #print(f\"Input cost: ${input_cost}\")\n",
        "    #print(f\"Output cost: ${output_cost}\")\n",
        "    #print(f\"Total cost: ${total_cost}\")\n",
        "    #print(f\"Perplexity search costs (including LLM prompt completion): ${completion_total_cost + perplexity_cost}\")\n",
        "    print(\"\")\n",
        "    print(\"~~~~ NEXT PROMPT ~~~~\")\n",
        "    print(\"\")\n",
        "\n",
        "  final_prompt_part2_dict = {\n",
        "      \"forecaster1\": all_forecasts[0][2],\n",
        "      \"forecaster2\": all_forecasts[1][2],\n",
        "      \"forecaster3\": all_forecasts[2][2],\n",
        "  }\n",
        "\n",
        "  formatted_final_prompt_part2 = replace_keys(final_prompt_part2, final_prompt_part2_dict)\n",
        "\n",
        "  print(\"+++++++++++ FINAL PROMPT (4) +++++++++++++++++\")\n",
        "\n",
        "  final_prompt_template = final_prompt_part1 + QUESTION_INFO_TEMPLATE + formatted_final_prompt_part2\n",
        "\n",
        "  print(\"Running final prompt...\")\n",
        "\n",
        "  #probability, confidence, gpt_text, input_cost, output_cost, total_cost = run_llm(today, client, question_to_forecast_dict, final_prompt_template, summary_report, model)\n",
        "  try:\n",
        "    probability, confidence, gpt_text, input_cost, output_cost, total_cost = run_llm_metaculus(today, question_to_forecast_dict, prompt_template, summary_report, model)\n",
        "  except:\n",
        "    probability, confidence, gpt_text, input_cost, output_cost, total_cost = run_llm_metaculus(today, question_to_forecast_dict, prompt_template, summary_report, model)\n",
        "  #print(\"\")\n",
        "  #print(gpt_text)\n",
        "  print(\"\")\n",
        "\n",
        "  print(\"Final prompt's individual (non-weighted) extracted probability percentage value (0-100): %s\" % probability)\n",
        "  print(\"\")\n",
        "\n",
        "  if USE_CONFIDENCE:\n",
        "    total_confidence = 0\n",
        "    for forecast in all_forecasts:\n",
        "      total_confidence += forecast[1]\n",
        "    total_confidence += 2.0*confidence\n",
        "    forecaster1_weight = round(all_forecasts[0][1]/total_confidence,5)\n",
        "    forecaster2_weight = round(all_forecasts[1][1]/total_confidence,5)\n",
        "    forecaster3_weight = round(all_forecasts[2][1]/total_confidence,5)\n",
        "    forecaster4_weight = round(2.0*confidence/total_confidence,5)\n",
        "\n",
        "  else:\n",
        "    forecaster1_weight = 0.2\n",
        "    forecaster2_weight = 0.2\n",
        "    forecaster3_weight = 0.2\n",
        "    forecaster4_weight = 0.4\n",
        "\n",
        "  weighted_forecast = forecaster1_weight*float(all_forecasts[0][0]) + forecaster2_weight*float(all_forecasts[1][0]) + forecaster3_weight*float(all_forecasts[2][0]) + forecaster4_weight*float(probability)\n",
        "  weighted_forecast = round(weighted_forecast,1)\n",
        "  overall_cost = overall_cost + total_cost\n",
        "\n",
        "  #create summary strings for comments:\n",
        "  header_string = f\"\"\"\n",
        "  *This forecast is produced from several prompts initially making forecasts, then a summary forecaster looks over all the previous forecasts and rationales and assess them for level of convincingness before giving its own forecast.  Then a weighted forecast is produced by combining all the inidividual and summary forecasts, weighted based on the initial forecasters' reported confidence and an independently assessed level of rationale strength.  The individual forecasts are reasoned based on knowledge stored inside the latest OpenAI GPT models, supplemented with recent information from targeted Perplexity search results.*\n",
        "\n",
        "  * *Main LLM Model used: {model}*\n",
        "  * *Weighted formula: ({forecaster1_weight})(Forecaster A) + ({forecaster2_weight})(Forecaster B) + ({forecaster3_weight})(Forecaster C) + ({forecaster4_weight})(Summary Forecaster)*\n",
        "  * *** FINAL WEIGHTED FORECAST: {weighted_forecast}%***\n",
        "\n",
        "  ---\n",
        "\n",
        "  \"\"\"\n",
        "  print('Rationale to submit:')\n",
        "  print(\"\")\n",
        "  print(header_string)\n",
        "  print(\"\")\n",
        "\n",
        "  forecasted_count += 1\n",
        "  if SUBMIT_FORECASTS and weighted_forecast is not None:\n",
        "    predict(question_to_forecast_dict[\"id\"], float(weighted_forecast))\n",
        "    comment(question_to_forecast_dict[\"id\"], header_string + \"PERPLEXITY\\n\\n\" + summary_report + \"\\n\\n---\\n\\n\" + \"GPT\\n\\n\" + gpt_text)\n",
        "\n",
        "  print(f\"Output Reasoning:\")\n",
        "  print(gpt_text)\n",
        "  print(\"\")\n",
        "  print(\"FINAL WEIGHTED FORECAST:\")\n",
        "  print(f\"{weighted_forecast}%\")\n",
        "  print(\"\")\n",
        "  print(f\"Overall cost was: ${overall_cost}\")\n",
        "  print(\"\")\n",
        "  print(\"################ NEXT QUESTION #################\")\n",
        "  print(\"\")\n",
        "\n",
        "print(\"Finished forecasting on %s questions.\" % forecasted_count)"
      ]
    },
    {
      "cell_type": "code",
      "source": [],
      "metadata": {
        "id": "6qfSjn0L_8I3"
      },
      "execution_count": null,
      "outputs": []
    }
  ],
  "metadata": {
    "colab": {
      "provenance": [],
      "include_colab_link": true
    },
    "kernelspec": {
      "display_name": "Python 3",
      "name": "python3"
    },
    "language_info": {
      "name": "python"
    }
  },
  "nbformat": 4,
  "nbformat_minor": 0
}